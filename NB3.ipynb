{
 "cells": [
  {
   "cell_type": "code",
   "execution_count": 1,
   "id": "mechanical-layer",
   "metadata": {
    "id": "f01d097d-23fb-43a9-9609-660061f268a3",
    "tags": []
   },
   "outputs": [
    {
     "name": "stdout",
     "output_type": "stream",
     "text": [
      "hallo world again\n"
     ]
    }
   ],
   "source": [
    "print(\"hallo world again\")"
   ]
  },
  {
   "cell_type": "code",
   "execution_count": 2,
   "id": "piano-bones",
   "metadata": {
    "id": "5d524e31-1738-45e8-82b4-30b9d7b35993",
    "tags": []
   },
   "outputs": [
    {
     "name": "stdout",
     "output_type": "stream",
     "text": [
      "this is my third NB\n"
     ]
    }
   ],
   "source": [
    "print(\"this is my third NB\")"
   ]
  },
  {
   "cell_type": "code",
   "execution_count": null,
   "id": "infrared-northern",
   "metadata": {
    "id": "fce3ab88-dcb2-4020-9db2-322f3b8a8ea2"
   },
   "outputs": [],
   "source": []
  }
 ],
 "metadata": {
  "kernelspec": {
   "display_name": "Python 3.7",
   "language": "python",
   "name": "python3"
  },
  "language_info": {
   "codemirror_mode": {
    "name": "ipython",
    "version": 3
   },
   "file_extension": ".py",
   "mimetype": "text/x-python",
   "name": "python",
   "nbconvert_exporter": "python",
   "pygments_lexer": "ipython3",
   "version": "3.7.10"
  }
 },
 "nbformat": 4,
 "nbformat_minor": 5
}
