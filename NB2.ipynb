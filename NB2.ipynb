{
 "cells": [
  {
   "cell_type": "code",
   "execution_count": 2,
   "id": "material-plumbing",
   "metadata": {
    "id": "eced4053-3ae9-4451-a8de-c8e2b14746cd",
    "tags": []
   },
   "outputs": [
    {
     "name": "stdout",
     "output_type": "stream",
     "text": [
      "Hallo world\n"
     ]
    }
   ],
   "source": [
    "print(\"Hallo world\")"
   ]
  },
  {
   "cell_type": "code",
   "execution_count": 1,
   "id": "revised-microphone",
   "metadata": {
    "id": "ca3f7b5d-e987-4917-8978-3d993434c530",
    "tags": []
   },
   "outputs": [
    {
     "name": "stdout",
     "output_type": "stream",
     "text": [
      "This is my second notebook\n"
     ]
    }
   ],
   "source": [
    "print (\"This is my second notebook\")"
   ]
  },
  {
   "cell_type": "code",
   "execution_count": null,
   "id": "given-visitor",
   "metadata": {
    "id": "be789bd1-bc1e-4772-b737-8b887f841188"
   },
   "outputs": [],
   "source": []
  }
 ],
 "metadata": {
  "kernelspec": {
   "display_name": "Python 3.7",
   "language": "python",
   "name": "python3"
  },
  "language_info": {
   "codemirror_mode": {
    "name": "ipython",
    "version": 3
   },
   "file_extension": ".py",
   "mimetype": "text/x-python",
   "name": "python",
   "nbconvert_exporter": "python",
   "pygments_lexer": "ipython3",
   "version": "3.7.10"
  }
 },
 "nbformat": 4,
 "nbformat_minor": 5
}
