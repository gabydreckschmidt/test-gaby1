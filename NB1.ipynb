{
 "cells": [
  {
   "cell_type": "code",
   "execution_count": 2,
   "id": "transsexual-assignment",
   "metadata": {
    "id": "e462ce46-f7af-4065-a196-e51e91e58d43",
    "tags": []
   },
   "outputs": [
    {
     "name": "stdout",
     "output_type": "stream",
     "text": [
      "Hallo world\n"
     ]
    }
   ],
   "source": [
    "print(\"Hallo world\")\n"
   ]
  },
  {
   "cell_type": "code",
   "execution_count": 3,
   "id": "varying-external",
   "metadata": {
    "id": "0f3fab40-9e51-46bb-9ae2-bd1555f055d4",
    "tags": []
   },
   "outputs": [
    {
     "name": "stdout",
     "output_type": "stream",
     "text": [
      "another line with hallo\n"
     ]
    }
   ],
   "source": [
    "print(\"another line with hallo\")"
   ]
  },
  {
   "cell_type": "code",
   "execution_count": null,
   "id": "blank-people",
   "metadata": {
    "id": "89834e5e-3234-4ae7-b4d0-8f404fee3b38"
   },
   "outputs": [],
   "source": []
  }
 ],
 "metadata": {
  "kernelspec": {
   "display_name": "Python 3.7",
   "language": "python",
   "name": "python3"
  },
  "language_info": {
   "codemirror_mode": {
    "name": "ipython",
    "version": 3
   },
   "file_extension": ".py",
   "mimetype": "text/x-python",
   "name": "python",
   "nbconvert_exporter": "python",
   "pygments_lexer": "ipython3",
   "version": "3.7.10"
  }
 },
 "nbformat": 4,
 "nbformat_minor": 5
}
